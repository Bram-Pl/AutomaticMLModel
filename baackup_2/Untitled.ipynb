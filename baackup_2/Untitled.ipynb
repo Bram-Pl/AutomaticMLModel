{
 "cells": [
  {
   "cell_type": "code",
   "execution_count": 82,
   "metadata": {},
   "outputs": [],
   "source": [
    "import pandas as pd\n",
    "import numpy as np\n",
    "import pickle\n",
    "from sklearn.model_selection import train_test_split\n",
    "from sklearn.linear_model import LogisticRegression\n",
    "from sklearn.metrics import classification_report"
   ]
  },
  {
   "cell_type": "code",
   "execution_count": 64,
   "metadata": {},
   "outputs": [],
   "source": [
    "data = pd.read_csv(\"wisc_bc_data.csv\")"
   ]
  },
  {
   "cell_type": "code",
   "execution_count": 65,
   "metadata": {},
   "outputs": [
    {
     "data": {
      "text/plain": [
       "['id',\n",
       " 'diagnosis',\n",
       " 'radius_Healtyean',\n",
       " 'texture_Healtyean',\n",
       " 'periHealtyeter_Healtyean',\n",
       " 'area_Healtyean',\n",
       " 'sHealtyoothness_Healtyean',\n",
       " 'coHealtypactness_Healtyean',\n",
       " 'concavity_Healtyean',\n",
       " 'points_Healtyean',\n",
       " 'syHealtyHealtyetry_Healtyean',\n",
       " 'diHealtyension_Healtyean',\n",
       " 'radius_se',\n",
       " 'texture_se',\n",
       " 'periHealtyeter_se',\n",
       " 'area_se',\n",
       " 'sHealtyoothness_se',\n",
       " 'coHealtypactness_se',\n",
       " 'concavity_se',\n",
       " 'points_se',\n",
       " 'syHealtyHealtyetry_se',\n",
       " 'diHealtyension_se',\n",
       " 'radius_worst',\n",
       " 'texture_worst',\n",
       " 'periHealtyeter_worst',\n",
       " 'area_worst',\n",
       " 'sHealtyoothness_worst',\n",
       " 'coHealtypactness_worst',\n",
       " 'concavity_worst',\n",
       " 'points_worst',\n",
       " 'syHealtyHealtyetry_worst',\n",
       " 'diHealtyension_worst']"
      ]
     },
     "execution_count": 65,
     "metadata": {},
     "output_type": "execute_result"
    }
   ],
   "source": [
    "list(data.columns)"
   ]
  },
  {
   "cell_type": "code",
   "execution_count": 66,
   "metadata": {},
   "outputs": [],
   "source": [
    "trainVar = ['diagnosis']"
   ]
  },
  {
   "cell_type": "code",
   "execution_count": 67,
   "metadata": {},
   "outputs": [],
   "source": [
    "dataX = data\n",
    "#datay = data[['M']]"
   ]
  },
  {
   "cell_type": "code",
   "execution_count": null,
   "metadata": {},
   "outputs": [],
   "source": []
  },
  {
   "cell_type": "code",
   "execution_count": null,
   "metadata": {},
   "outputs": [],
   "source": []
  },
  {
   "cell_type": "code",
   "execution_count": 68,
   "metadata": {},
   "outputs": [
    {
     "name": "stdout",
     "output_type": "stream",
     "text": [
      "    diagnosis\n",
      "0      Healty\n",
      "1      Healty\n",
      "2        Sick\n",
      "3        Sick\n",
      "4        Sick\n",
      "..        ...\n",
      "564      Sick\n",
      "565      Sick\n",
      "566    Healty\n",
      "567      Sick\n",
      "568    Healty\n",
      "\n",
      "[569 rows x 1 columns]\n"
     ]
    }
   ],
   "source": [
    "print(data[trainVar])"
   ]
  },
  {
   "cell_type": "code",
   "execution_count": 69,
   "metadata": {},
   "outputs": [],
   "source": [
    "replace = pd.get_dummies(data[trainVar],drop_first=True)\n",
    "data.drop(trainVar,axis=1,inplace=True)\n",
    "data = pd.concat([data,replace],axis=1)\n",
    "datay = data.iloc[:,-1]"
   ]
  },
  {
   "cell_type": "code",
   "execution_count": 70,
   "metadata": {},
   "outputs": [
    {
     "name": "stdout",
     "output_type": "stream",
     "text": [
      "            id  radius_Healtyean  texture_Healtyean  periHealtyeter_Healtyean  \\\n",
      "0     87139402             12.32              12.39                     78.85   \n",
      "1      8910251             10.60              18.95                     69.28   \n",
      "2       905520             11.04              16.83                     70.92   \n",
      "3       868871             11.28              13.39                     73.00   \n",
      "4      9012568             15.19              13.21                     97.65   \n",
      "..         ...               ...                ...                       ...   \n",
      "564  911320502             13.17              18.22                     84.28   \n",
      "565     898677             10.26              14.71                     66.20   \n",
      "566     873885             15.28              22.41                     98.92   \n",
      "567     911201             14.53              13.98                     93.86   \n",
      "568    9012795             21.37              15.10                    141.30   \n",
      "\n",
      "     area_Healtyean  sHealtyoothness_Healtyean  coHealtypactness_Healtyean  \\\n",
      "0             464.1                    0.10280                     0.06981   \n",
      "1             346.4                    0.09688                     0.11470   \n",
      "2             373.2                    0.10770                     0.07804   \n",
      "3             384.8                    0.11640                     0.11360   \n",
      "4             711.8                    0.07963                     0.06934   \n",
      "..              ...                        ...                         ...   \n",
      "564           537.3                    0.07466                     0.05994   \n",
      "565           321.6                    0.09882                     0.09159   \n",
      "566           710.6                    0.09057                     0.10520   \n",
      "567           644.2                    0.10990                     0.09242   \n",
      "568          1386.0                    0.10010                     0.15150   \n",
      "\n",
      "     concavity_Healtyean  points_Healtyean  syHealtyHealtyetry_Healtyean  ...  \\\n",
      "0                0.03987           0.03700                        0.1959  ...   \n",
      "1                0.06387           0.02642                        0.1922  ...   \n",
      "2                0.03046           0.02480                        0.1714  ...   \n",
      "3                0.04635           0.04796                        0.1771  ...   \n",
      "4                0.03393           0.02657                        0.1721  ...   \n",
      "..                   ...               ...                           ...  ...   \n",
      "564              0.04859           0.02870                        0.1454  ...   \n",
      "565              0.03581           0.02037                        0.1633  ...   \n",
      "566              0.05375           0.03263                        0.1727  ...   \n",
      "567              0.06895           0.06495                        0.1650  ...   \n",
      "568              0.19320           0.12550                        0.1973  ...   \n",
      "\n",
      "     texture_worst  periHealtyeter_worst  area_worst  sHealtyoothness_worst  \\\n",
      "0            15.64                 86.97       549.1                 0.1385   \n",
      "1            22.94                 78.28       424.8                 0.1213   \n",
      "2            26.44                 79.93       471.4                 0.1369   \n",
      "3            15.77                 76.53       434.0                 0.1367   \n",
      "4            15.73                104.50       819.1                 0.1126   \n",
      "..             ...                   ...         ...                    ...   \n",
      "564          23.89                 95.10       687.6                 0.1282   \n",
      "565          19.48                 70.89       357.1                 0.1360   \n",
      "566          28.03                113.80       973.1                 0.1301   \n",
      "567          16.93                103.10       749.9                 0.1347   \n",
      "568          21.84                152.10      1535.0                 0.1192   \n",
      "\n",
      "     coHealtypactness_worst  concavity_worst  points_worst  \\\n",
      "0                    0.1266          0.12420       0.09391   \n",
      "1                    0.2515          0.19160       0.07926   \n",
      "2                    0.1482          0.10670       0.07431   \n",
      "3                    0.1822          0.08669       0.08611   \n",
      "4                    0.1737          0.13620       0.08178   \n",
      "..                      ...              ...           ...   \n",
      "564                  0.1965          0.18760       0.10450   \n",
      "565                  0.1636          0.07162       0.04074   \n",
      "566                  0.3299          0.36300       0.12260   \n",
      "567                  0.1478          0.13730       0.10690   \n",
      "568                  0.2840          0.40240       0.19660   \n",
      "\n",
      "     syHealtyHealtyetry_worst  diHealtyension_worst  diagnosis_Sick  \n",
      "0                      0.2827               0.06771               0  \n",
      "1                      0.2940               0.07587               0  \n",
      "2                      0.2998               0.07881               1  \n",
      "3                      0.2102               0.06784               1  \n",
      "4                      0.2487               0.06766               1  \n",
      "..                        ...                   ...             ...  \n",
      "564                    0.2235               0.06925               1  \n",
      "565                    0.2434               0.08488               1  \n",
      "566                    0.3175               0.09772               0  \n",
      "567                    0.2606               0.07810               1  \n",
      "568                    0.2730               0.08666               0  \n",
      "\n",
      "[569 rows x 32 columns]\n"
     ]
    }
   ],
   "source": [
    "print(data)"
   ]
  },
  {
   "cell_type": "code",
   "execution_count": 71,
   "metadata": {},
   "outputs": [],
   "source": [
    "TrainName = data.columns[-1]"
   ]
  },
  {
   "cell_type": "code",
   "execution_count": 72,
   "metadata": {},
   "outputs": [],
   "source": [
    "data.drop(data.columns[[-1,]], axis=1, inplace=True)"
   ]
  },
  {
   "cell_type": "code",
   "execution_count": 79,
   "metadata": {},
   "outputs": [
    {
     "name": "stdout",
     "output_type": "stream",
     "text": [
      "diagnosis_Sick\n"
     ]
    }
   ],
   "source": [
    "outcome = 1\n",
    "if outcome == 1:\n",
    "    print(TrainName)\n",
    "elif outcome == 0:\n",
    "    print(\"Not\" ,TrainName)"
   ]
  },
  {
   "cell_type": "code",
   "execution_count": 87,
   "metadata": {},
   "outputs": [],
   "source": [
    "with open('LogRegTrainName.pkl', 'wb') as f:\n",
    "    pickle.dump(TrainName, f)"
   ]
  },
  {
   "cell_type": "code",
   "execution_count": 88,
   "metadata": {},
   "outputs": [],
   "source": [
    "with open('LogRegTrainName.pkl', 'rb') as f:\n",
    "    readname = pickle.load(f)"
   ]
  },
  {
   "cell_type": "code",
   "execution_count": 89,
   "metadata": {},
   "outputs": [
    {
     "name": "stdout",
     "output_type": "stream",
     "text": [
      "diagnosis_Sick\n"
     ]
    }
   ],
   "source": [
    "print(readname)"
   ]
  },
  {
   "cell_type": "code",
   "execution_count": null,
   "metadata": {},
   "outputs": [],
   "source": []
  }
 ],
 "metadata": {
  "kernelspec": {
   "display_name": "Python 3",
   "language": "python",
   "name": "python3"
  },
  "language_info": {
   "codemirror_mode": {
    "name": "ipython",
    "version": 3
   },
   "file_extension": ".py",
   "mimetype": "text/x-python",
   "name": "python",
   "nbconvert_exporter": "python",
   "pygments_lexer": "ipython3",
   "version": "3.7.4"
  }
 },
 "nbformat": 4,
 "nbformat_minor": 2
}
