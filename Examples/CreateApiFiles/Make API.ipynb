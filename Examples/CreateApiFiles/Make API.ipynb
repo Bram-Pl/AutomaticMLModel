{
 "cells": [
  {
   "cell_type": "code",
   "execution_count": 1,
   "metadata": {},
   "outputs": [],
   "source": [
    "import pandas as pd"
   ]
  },
  {
   "cell_type": "code",
   "execution_count": 2,
   "metadata": {},
   "outputs": [],
   "source": [
    "data = pd.read_csv(\"VB_API/data/concrete.csv\")"
   ]
  },
  {
   "cell_type": "code",
   "execution_count": 3,
   "metadata": {},
   "outputs": [
    {
     "data": {
      "text/plain": [
       "['cement',\n",
       " 'slag',\n",
       " 'ash',\n",
       " 'water',\n",
       " 'superplastic',\n",
       " 'coarseagg',\n",
       " 'fineagg',\n",
       " 'age',\n",
       " 'strength']"
      ]
     },
     "execution_count": 3,
     "metadata": {},
     "output_type": "execute_result"
    }
   ],
   "source": [
    "list(data.columns)"
   ]
  },
  {
   "cell_type": "markdown",
   "metadata": {},
   "source": [
    "# Return from HTML after selection"
   ]
  },
  {
   "cell_type": "code",
   "execution_count": 4,
   "metadata": {},
   "outputs": [],
   "source": [
    "import pickle\n",
    "import pandas as pd\n",
    "from sklearn.model_selection import train_test_split\n",
    "from sklearn.metrics import classification_report\n",
    "from sklearn.linear_model import LinearRegression"
   ]
  },
  {
   "cell_type": "code",
   "execution_count": 5,
   "metadata": {},
   "outputs": [],
   "source": [
    "dataX = data[['cement','slag','ash','water','superplastic','coarseagg','fineagg','strength']]\n",
    "datay = data[['age']]"
   ]
  },
  {
   "cell_type": "markdown",
   "metadata": {},
   "source": [
    "##### datay is the variable to be calculated"
   ]
  },
  {
   "cell_type": "code",
   "execution_count": 6,
   "metadata": {},
   "outputs": [
    {
     "name": "stdout",
     "output_type": "stream",
     "text": [
      "      age\n",
      "0      28\n",
      "1      14\n",
      "2      28\n",
      "3      28\n",
      "4      28\n",
      "...   ...\n",
      "1025   28\n",
      "1026    3\n",
      "1027   28\n",
      "1028  270\n",
      "1029    7\n",
      "\n",
      "[1030 rows x 1 columns]\n"
     ]
    }
   ],
   "source": [
    "    print(datay)"
   ]
  },
  {
   "cell_type": "code",
   "execution_count": 7,
   "metadata": {},
   "outputs": [
    {
     "data": {
      "text/plain": [
       "Index(['cement', 'slag', 'ash', 'water', 'superplastic', 'coarseagg',\n",
       "       'fineagg', 'age', 'strength'],\n",
       "      dtype='object')"
      ]
     },
     "execution_count": 7,
     "metadata": {},
     "output_type": "execute_result"
    }
   ],
   "source": [
    "data.columns"
   ]
  },
  {
   "cell_type": "code",
   "execution_count": 8,
   "metadata": {},
   "outputs": [],
   "source": [
    "X_train, X_test, y_train, y_test = train_test_split(dataX, datay, test_size=0.25, random_state=101)"
   ]
  },
  {
   "cell_type": "markdown",
   "metadata": {},
   "source": [
    "# Linear Regression Model"
   ]
  },
  {
   "cell_type": "code",
   "execution_count": 9,
   "metadata": {},
   "outputs": [],
   "source": [
    "lm = LinearRegression()"
   ]
  },
  {
   "cell_type": "code",
   "execution_count": 10,
   "metadata": {},
   "outputs": [
    {
     "data": {
      "text/plain": [
       "LinearRegression(copy_X=True, fit_intercept=True, n_jobs=None, normalize=False)"
      ]
     },
     "execution_count": 10,
     "metadata": {},
     "output_type": "execute_result"
    }
   ],
   "source": [
    "lm.fit(X_train,y_train)"
   ]
  },
  {
   "cell_type": "code",
   "execution_count": 11,
   "metadata": {},
   "outputs": [],
   "source": [
    "predictions = lm.predict(X_test)"
   ]
  },
  {
   "cell_type": "markdown",
   "metadata": {},
   "source": [
    "# Create API files"
   ]
  },
  {
   "cell_type": "code",
   "execution_count": 12,
   "metadata": {},
   "outputs": [],
   "source": [
    "import os\n",
    "import shutil\n",
    "\n",
    "for coly in datay.columns:\n",
    "    namePredict = coly"
   ]
  },
  {
   "cell_type": "code",
   "execution_count": 13,
   "metadata": {},
   "outputs": [],
   "source": [
    "nameFolder = './API_' + str(namePredict)\n",
    "\n",
    "if not os.path.isdir(nameFolder) :\n",
    "    os.mkdir(nameFolder)\n",
    "if not os.path.isdir(nameFolder + '/templates') :    \n",
    "    os.mkdir(nameFolder + '/templates')"
   ]
  },
  {
   "cell_type": "code",
   "execution_count": 14,
   "metadata": {},
   "outputs": [],
   "source": [
    "#Creating index.html\n",
    "strINDEX = \"<!-- By Jarni Vanmal, Bram Plessers and Sven Musters -->\" + \"\\n\"\n",
    "strINDEX = strINDEX +\"<!DOCTYPE html>\" + \"\\n\"\n",
    "strINDEX = strINDEX + \"<html>\" + \"\\n\"\n",
    "strINDEX = strINDEX + \"<head>\" + \"\\n\"\n",
    "strINDEX = strINDEX + \"\\t\" + \"<title>\" + \"Predict \" + namePredict + \"</title>\" + \"\\n\"\n",
    "strINDEX = strINDEX + \"</head>\" + \"\\n\"\n",
    "\n",
    "strINDEX = strINDEX + \"<body>\" + \"\\n\"\n",
    "strINDEX = strINDEX + \"\\t\" + \"<h1>\" + \"Predict \" + namePredict + \"</h1>\" + \"\\n\"\n",
    "\n",
    "strINDEX = strINDEX + \"\\t\" + \"{% block content %}{% endblock %}\" + \"\\n\"\n",
    "strINDEX = strINDEX + \"\\t\" + \"<form action=\\\"/start\\\" method=\\\"post\\\" novalidate>\" + \"\\n\"\n",
    "strINDEX = strINDEX + \"\\t\" + \"{{ form.hidden_tag() }}\" + \"\\n\"\n",
    "\n",
    "for colx in dataX.columns:\n",
    "    strINDEX = strINDEX + \"\\t\\t\" + \"<p>\" + \"\\n\"\n",
    "    strINDEX = strINDEX + \"\\t\\t\" + \"{{ form.\" + colx + \".label }}<br>\" + \"\\n\"\n",
    "    strINDEX = strINDEX + \"\\t\\t\" + \"{{ form.\" + colx + \"(size=32) }}\" + \"\\n\"\n",
    "    strINDEX = strINDEX + \"\\t\\t\" + \"</p>\" + \"\\n\\n\"\n",
    "\n",
    "strINDEX = strINDEX + \"\\t\\t\" + \"<p>{{form.submit()}}</p>\" + \"\\n\"\n",
    "strINDEX = strINDEX + \"\\t\" + \"</form>\" + \"\\n\"\n",
    "\n",
    "strINDEX = strINDEX + \"</body>\" + \"\\n\"\n",
    "strINDEX = strINDEX + \"</html>\" + \"\\n\"\n",
    " \n",
    "fileIndex = open(\"./\" + nameFolder + \"/templates/index.html\", 'w')\n",
    "fileIndex.write(strINDEX)\n",
    "fileIndex.close();"
   ]
  },
  {
   "cell_type": "code",
   "execution_count": 15,
   "metadata": {},
   "outputs": [],
   "source": [
    "#Creating Result.html\n",
    "strRESULT = \"<!-- By Jarni Vanmal, Bram Plessers and Sven Musters -->\" + \"\\n\"\n",
    "strRESULT = strRESULT + \"{% extends \\\"index.html\\\" %}\" + \"\\n\"\n",
    "strRESULT = strRESULT + \"{% block content %}\" + \"\\n\"\n",
    "strRESULT = strRESULT + \"\\t\" + \"<h2>Predicted \" + namePredict + \" is: {{\" + namePredict + \"}} </h2>\" + \"\\n\"\n",
    "strRESULT = strRESULT + \"{% endblock %}\" + \"\\n\"\n",
    "\n",
    "fileIndex = open(\"./\" + nameFolder + \"/templates/result.html\", 'w')\n",
    "fileIndex.write(strRESULT)\n",
    "fileIndex.close();"
   ]
  },
  {
   "cell_type": "code",
   "execution_count": 27,
   "metadata": {},
   "outputs": [],
   "source": [
    "#Creating PXLApp.py\n",
    "strPXLApp = \"import pandas as pd\" + \"\\n\"\n",
    "strPXLApp = strPXLApp + \"import pickle\" + \"\\n\"\n",
    "strPXLApp = strPXLApp + \"import os\" + \"\\n\"\n",
    "strPXLApp = strPXLApp + \"from flask import Flask, url_for, request, json, Response, jsonify, render_template, redirect, flash\" + \"\\n\"\n",
    "strPXLApp = strPXLApp + \"from wtforms import  SubmitField, IntegerField\" + \"\\n\"\n",
    "strPXLApp = strPXLApp + \"from wtforms.validators import DataRequired\" + \"\\n\"\n",
    "strPXLApp = strPXLApp + \"from flask_wtf import FlaskForm\" + \"\\n\"\n",
    "strPXLApp = strPXLApp + \"from functools import wraps\" + \"\\n\"\n",
    "strPXLApp = strPXLApp + \"import joblib\" + \"\\n\"\n",
    "strPXLApp = strPXLApp + \"import numpy as np\" + \"\\n\"\n",
    "strPXLApp = strPXLApp +  \"\\n\"\n",
    "\n",
    "strPXLApp = strPXLApp + \"app = Flask(__name__)\" + \"\\n\"\n",
    "strPXLApp = strPXLApp + \"app.config['SECRET_KEY']='mysecret'\" + \"\\n\"\n",
    "strPXLApp = strPXLApp + \"\\n\"\n",
    "\n",
    "strPXLApp = strPXLApp + \"test_data_f =  { \" \n",
    "for colx in dataX.columns:\n",
    "    strPXLApp = strPXLApp + \"\\\"\" + colx + \"\\\" : 0, \"\n",
    "strPXLApp = strPXLApp + \"} \\n\"\n",
    "strPXLApp = strPXLApp + \"\\n\"\n",
    "\n",
    "strPXLApp = strPXLApp + \"class PredictForm(FlaskForm):\" + \"\\n\"\n",
    "for colx in dataX.columns:\n",
    "    strPXLApp = strPXLApp + \"\\t\" + colx + \" = IntegerField('\" + colx + \"')\" + \"\\n\"\n",
    "strPXLApp = strPXLApp + \"\\t\" + \"submit=SubmitField('Predict')\" + \"\\n\"\n",
    "strPXLApp = strPXLApp + \"\\n\"\n",
    "\n",
    "strPXLApp = strPXLApp + \"class Config(object):\" + \"\\n\"\n",
    "strPXLApp = strPXLApp + \"\\t\" + \"SECRET_KEY = os.environ.get('SECRET_KEY') or 'you-will-never-guess'\" + \"\\n\"\n",
    "strPXLApp = strPXLApp + \"\\n\"\n",
    "\n",
    "strPXLApp = strPXLApp + \"model_pkl = pickle.load(open('model.pkl','rb'))\" + \"\\n\"\n",
    "strPXLApp = strPXLApp + \"\\n\"\n",
    "\n",
    "strPXLApp = strPXLApp + \"@app.route('/',methods=['GET','POST'])\" + \"\\n\"\n",
    "strPXLApp = strPXLApp + \"@app.route('/start',methods=['GET','POST'])\" + \"\\n\"\n",
    "strPXLApp = strPXLApp + \"def start():\" + \"\\n\"\n",
    "strPXLApp = strPXLApp + \"\\t\" + \"form = PredictForm()\" + \"\\n\"\n",
    "strPXLApp = strPXLApp + \"\\t\" + \"if form.validate_on_submit():\" + \"\\n\"\n",
    "\n",
    "strPXLApp = strPXLApp + \"\\t\\t\" + \"flash('\" + namePredict + \"')\" + \"\\n\"\n",
    "\n",
    "for colx in dataX.columns:\n",
    "    strPXLApp = strPXLApp + \"\\t\\t\" + \"test_data_f['\" + colx + \"']=form.\"+ colx + \".data\" +\"\\n\"\n",
    "strPXLApp = strPXLApp + \"\\t\\t\" + \"data=test_data_f\" + \"\\n\"\n",
    "strPXLApp = strPXLApp + \"\\t\\t\" + \"result=model_pkl.predict(pd.DataFrame(pd.DataFrame(data, index=[0])))[0]\" + \"\\n\"    \n",
    "strPXLApp = strPXLApp + \"\\t\\t\" + \"return render_template('result.html',title='model', form=form, \" + namePredict + \"=result)\" + \"\\n\"\n",
    "strPXLApp = strPXLApp + \"\\t\" + \"return render_template('index.html', title='model', form=form)\" + \"\\n\"\n",
    "strPXLApp = strPXLApp + \"\\n\"\n",
    "\n",
    "strPXLApp = strPXLApp + \"if __name__ == '__main__':\" + \"\\n\"\n",
    "strPXLApp = strPXLApp + \"\\t\" + \"app.run(debug=True)\" + \"\\n\"\n",
    "\n",
    "fileIndex = open(\"./\" + nameFolder + \"/PXLApp.py\", 'w')\n",
    "fileIndex.write(strPXLApp)\n",
    "fileIndex.close();"
   ]
  },
  {
   "cell_type": "code",
   "execution_count": 28,
   "metadata": {},
   "outputs": [],
   "source": [
    "#Creating requirements.txt\n",
    "strReq = \"flask\" + \"\\n\"\n",
    "strReq = strReq + \"flask_wtf\" + \"\\n\"\n",
    "strReq = strReq + \"pandas\" + \"\\n\"\n",
    "strReq = strReq + \"sklearn\" + \"\\n\"\n",
    "strReq = strReq + \"wtforms\" + \"\\n\"\n",
    "strReq = strReq + \"numpy\" + \"\\n\"\n",
    "strReq = strReq + \"joblib\" + \"\\n\"\n",
    "strReq = strReq + \"gunicorn\" + \"\\n\"\n",
    "\n",
    "fileIndex = open(\"./\" + nameFolder + \"/requirements.txt\", 'w')\n",
    "fileIndex.write(strReq)\n",
    "fileIndex.close();"
   ]
  },
  {
   "cell_type": "code",
   "execution_count": 29,
   "metadata": {},
   "outputs": [],
   "source": [
    "#Creating procfile\n",
    "strProc = \"web: gunicorn PXLApp:app\"\n",
    "\n",
    "fileIndex = open(\"./\" + nameFolder + \"/procfile\", 'w')\n",
    "fileIndex.write(strProc)\n",
    "fileIndex.close();"
   ]
  },
  {
   "cell_type": "code",
   "execution_count": null,
   "metadata": {},
   "outputs": [],
   "source": []
  }
 ],
 "metadata": {
  "kernelspec": {
   "display_name": "Python 3",
   "language": "python",
   "name": "python3"
  },
  "language_info": {
   "codemirror_mode": {
    "name": "ipython",
    "version": 3
   },
   "file_extension": ".py",
   "mimetype": "text/x-python",
   "name": "python",
   "nbconvert_exporter": "python",
   "pygments_lexer": "ipython3",
   "version": "3.7.4"
  }
 },
 "nbformat": 4,
 "nbformat_minor": 2
}
